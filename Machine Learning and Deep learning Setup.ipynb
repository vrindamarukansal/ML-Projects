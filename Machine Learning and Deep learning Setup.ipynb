{
 "cells": [
  {
   "cell_type": "markdown",
   "metadata": {},
   "source": [
    "# What is Machine learning ?\n",
    "\n",
    "Machine learning is a subfield of artificial intelligence (AI) that provides systems the ability to automatically learn and improve from experience without being explicitly programmed. Machine learning focuses on the development of computer programs that can access data and use it learn for themselves.\n",
    "\n",
    "Let's setup machine learning a fabulous tool and a need of the hour technology to solve real time problems and to create a end to end product .\n",
    "\n",
    "Machine learning works on all platform and let's begin our journey in ML by installing these packages in order below.\n",
    "\n",
    "### Importants to know :\n",
    "    Make sure you use python 3.6 not v2.6 as support of 2.6 is going to get dropped\n",
    "    \n",
    "   #### Run all your commands in anaconda command prompt or terminal in case of linux\n",
    "    \n",
    "\n",
    "### Anaconda :\n",
    "\n",
    "Anaconda is a freemium open source distribution of the Python and R programming languages for large-scale data processing, predictive analytics, and scientific computing, that aims to simplify package management and deployment. It provides you with necessary packages needed for machine learning and IDE for deveploving code.\n",
    "\n",
    "While downloading make sure you add anaconda to your path variable ( make sure you click both the check box in last step on installation)\n"
   ]
  },
  {
   "cell_type": "markdown",
   "metadata": {},
   "source": [
    "Go to this link https://www.anaconda.com/download/ and download anaconda for python 3.6 "
   ]
  },
  {
   "cell_type": "markdown",
   "metadata": {},
   "source": [
    "### Sublime\n",
    "\n",
    "Sublime is one of my favourite text editor where you can type machine learning codes and complie it using command line or can you simply use spyder a IDE(recommened) which comes in ananconda package (to open it search for ananconda navigator) where you can easily build and run your python script.\n",
    "\n",
    "#### https://www.sublimetext.com/3 "
   ]
  },
  {
   "cell_type": "markdown",
   "metadata": {},
   "source": [
    "### Python IDE\n",
    "\n",
    "If your working in Ubuntu python is preinstalled for you and in windows download the python IDE 3.6 using the following link.It comes by default if your installing anaconda. \n",
    "\n",
    "https://www.python.org/downloads/"
   ]
  },
  {
   "cell_type": "markdown",
   "metadata": {},
   "source": [
    "### Default package\n",
    "\n",
    "Anaconda comes in with predefined packages like pandas,numpy etc. and you can install other libraries by googling - conda install packagename"
   ]
  },
  {
   "cell_type": "markdown",
   "metadata": {},
   "source": [
    "## Deep learning setups \n",
    "\n",
    "To setup deep learning in your OS make sure you have all the above packages.Keras is a high level deep learning framework with tensorflow backend and its mainly used for faster development It also recommened to learn torch,Caffe which are also a widly used powerfull deep learning framework for research.\n",
    "\n",
    "\n",
    "#### 1) conda install -c conda-forge keras\n",
    " \n",
    "#### 2) conda update --all\n",
    "\n",
    "#### 3) conda install -c conda-forge tensorflow for cpu \n",
    "#### conda install -c anaconda tensorflow-gpu  for gpu\n",
    "\n",
    "#### 4) download the pytorch from https://pytorch.org/"
   ]
  },
  {
   "cell_type": "markdown",
   "metadata": {},
   "source": [
    "## Machine learning setup \n",
    "\n",
    "#### 1) conda install -c anaconda scikit-learn "
   ]
  },
  {
   "cell_type": "markdown",
   "metadata": {},
   "source": [
    "I have covered all important packages for machine learning and deep learning but there are other packages which might need in special case such PIL to import images , CGI a server based script to link HTML and python,microsoft cognitive tookit and google deep learning API (vision,speech to text etc.) and more "
   ]
  }
 ],
 "metadata": {
  "kernelspec": {
   "display_name": "Python 3",
   "language": "python",
   "name": "python3"
  },
  "language_info": {
   "codemirror_mode": {
    "name": "ipython",
    "version": 3
   },
   "file_extension": ".py",
   "mimetype": "text/x-python",
   "name": "python",
   "nbconvert_exporter": "python",
   "pygments_lexer": "ipython3",
   "version": "3.6.5"
  }
 },
 "nbformat": 4,
 "nbformat_minor": 2
}
